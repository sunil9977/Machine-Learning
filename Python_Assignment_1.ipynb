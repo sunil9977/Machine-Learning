{
  "nbformat": 4,
  "nbformat_minor": 0,
  "metadata": {
    "colab": {
      "name": "Python Assignment 1",
      "provenance": [],
      "collapsed_sections": [],
      "toc_visible": true
    },
    "kernelspec": {
      "display_name": "Python 3",
      "name": "python3"
    }
  },
  "cells": [
    {
      "cell_type": "code",
      "metadata": {
        "id": "QTsvvFadko1u",
        "colab_type": "code",
        "colab": {
          "base_uri": "https://localhost:8080/",
          "height": 1000
        },
        "outputId": "20c2a850-14d6-4228-98e9-e9bb7caebd84"
      },
      "source": [
        "for number in range(2000,3201):\n",
        "  if number % 7 == 0 and number % 5 != 0:\n",
        "    print(\"The %d is divisible by 7 but not multiple of 5\" %number)"
      ],
      "execution_count": null,
      "outputs": [
        {
          "output_type": "stream",
          "text": [
            "The 2002 is divisible by 7 but not multiple of 5\n",
            "The 2009 is divisible by 7 but not multiple of 5\n",
            "The 2016 is divisible by 7 but not multiple of 5\n",
            "The 2023 is divisible by 7 but not multiple of 5\n",
            "The 2037 is divisible by 7 but not multiple of 5\n",
            "The 2044 is divisible by 7 but not multiple of 5\n",
            "The 2051 is divisible by 7 but not multiple of 5\n",
            "The 2058 is divisible by 7 but not multiple of 5\n",
            "The 2072 is divisible by 7 but not multiple of 5\n",
            "The 2079 is divisible by 7 but not multiple of 5\n",
            "The 2086 is divisible by 7 but not multiple of 5\n",
            "The 2093 is divisible by 7 but not multiple of 5\n",
            "The 2107 is divisible by 7 but not multiple of 5\n",
            "The 2114 is divisible by 7 but not multiple of 5\n",
            "The 2121 is divisible by 7 but not multiple of 5\n",
            "The 2128 is divisible by 7 but not multiple of 5\n",
            "The 2142 is divisible by 7 but not multiple of 5\n",
            "The 2149 is divisible by 7 but not multiple of 5\n",
            "The 2156 is divisible by 7 but not multiple of 5\n",
            "The 2163 is divisible by 7 but not multiple of 5\n",
            "The 2177 is divisible by 7 but not multiple of 5\n",
            "The 2184 is divisible by 7 but not multiple of 5\n",
            "The 2191 is divisible by 7 but not multiple of 5\n",
            "The 2198 is divisible by 7 but not multiple of 5\n",
            "The 2212 is divisible by 7 but not multiple of 5\n",
            "The 2219 is divisible by 7 but not multiple of 5\n",
            "The 2226 is divisible by 7 but not multiple of 5\n",
            "The 2233 is divisible by 7 but not multiple of 5\n",
            "The 2247 is divisible by 7 but not multiple of 5\n",
            "The 2254 is divisible by 7 but not multiple of 5\n",
            "The 2261 is divisible by 7 but not multiple of 5\n",
            "The 2268 is divisible by 7 but not multiple of 5\n",
            "The 2282 is divisible by 7 but not multiple of 5\n",
            "The 2289 is divisible by 7 but not multiple of 5\n",
            "The 2296 is divisible by 7 but not multiple of 5\n",
            "The 2303 is divisible by 7 but not multiple of 5\n",
            "The 2317 is divisible by 7 but not multiple of 5\n",
            "The 2324 is divisible by 7 but not multiple of 5\n",
            "The 2331 is divisible by 7 but not multiple of 5\n",
            "The 2338 is divisible by 7 but not multiple of 5\n",
            "The 2352 is divisible by 7 but not multiple of 5\n",
            "The 2359 is divisible by 7 but not multiple of 5\n",
            "The 2366 is divisible by 7 but not multiple of 5\n",
            "The 2373 is divisible by 7 but not multiple of 5\n",
            "The 2387 is divisible by 7 but not multiple of 5\n",
            "The 2394 is divisible by 7 but not multiple of 5\n",
            "The 2401 is divisible by 7 but not multiple of 5\n",
            "The 2408 is divisible by 7 but not multiple of 5\n",
            "The 2422 is divisible by 7 but not multiple of 5\n",
            "The 2429 is divisible by 7 but not multiple of 5\n",
            "The 2436 is divisible by 7 but not multiple of 5\n",
            "The 2443 is divisible by 7 but not multiple of 5\n",
            "The 2457 is divisible by 7 but not multiple of 5\n",
            "The 2464 is divisible by 7 but not multiple of 5\n",
            "The 2471 is divisible by 7 but not multiple of 5\n",
            "The 2478 is divisible by 7 but not multiple of 5\n",
            "The 2492 is divisible by 7 but not multiple of 5\n",
            "The 2499 is divisible by 7 but not multiple of 5\n",
            "The 2506 is divisible by 7 but not multiple of 5\n",
            "The 2513 is divisible by 7 but not multiple of 5\n",
            "The 2527 is divisible by 7 but not multiple of 5\n",
            "The 2534 is divisible by 7 but not multiple of 5\n",
            "The 2541 is divisible by 7 but not multiple of 5\n",
            "The 2548 is divisible by 7 but not multiple of 5\n",
            "The 2562 is divisible by 7 but not multiple of 5\n",
            "The 2569 is divisible by 7 but not multiple of 5\n",
            "The 2576 is divisible by 7 but not multiple of 5\n",
            "The 2583 is divisible by 7 but not multiple of 5\n",
            "The 2597 is divisible by 7 but not multiple of 5\n",
            "The 2604 is divisible by 7 but not multiple of 5\n",
            "The 2611 is divisible by 7 but not multiple of 5\n",
            "The 2618 is divisible by 7 but not multiple of 5\n",
            "The 2632 is divisible by 7 but not multiple of 5\n",
            "The 2639 is divisible by 7 but not multiple of 5\n",
            "The 2646 is divisible by 7 but not multiple of 5\n",
            "The 2653 is divisible by 7 but not multiple of 5\n",
            "The 2667 is divisible by 7 but not multiple of 5\n",
            "The 2674 is divisible by 7 but not multiple of 5\n",
            "The 2681 is divisible by 7 but not multiple of 5\n",
            "The 2688 is divisible by 7 but not multiple of 5\n",
            "The 2702 is divisible by 7 but not multiple of 5\n",
            "The 2709 is divisible by 7 but not multiple of 5\n",
            "The 2716 is divisible by 7 but not multiple of 5\n",
            "The 2723 is divisible by 7 but not multiple of 5\n",
            "The 2737 is divisible by 7 but not multiple of 5\n",
            "The 2744 is divisible by 7 but not multiple of 5\n",
            "The 2751 is divisible by 7 but not multiple of 5\n",
            "The 2758 is divisible by 7 but not multiple of 5\n",
            "The 2772 is divisible by 7 but not multiple of 5\n",
            "The 2779 is divisible by 7 but not multiple of 5\n",
            "The 2786 is divisible by 7 but not multiple of 5\n",
            "The 2793 is divisible by 7 but not multiple of 5\n",
            "The 2807 is divisible by 7 but not multiple of 5\n",
            "The 2814 is divisible by 7 but not multiple of 5\n",
            "The 2821 is divisible by 7 but not multiple of 5\n",
            "The 2828 is divisible by 7 but not multiple of 5\n",
            "The 2842 is divisible by 7 but not multiple of 5\n",
            "The 2849 is divisible by 7 but not multiple of 5\n",
            "The 2856 is divisible by 7 but not multiple of 5\n",
            "The 2863 is divisible by 7 but not multiple of 5\n",
            "The 2877 is divisible by 7 but not multiple of 5\n",
            "The 2884 is divisible by 7 but not multiple of 5\n",
            "The 2891 is divisible by 7 but not multiple of 5\n",
            "The 2898 is divisible by 7 but not multiple of 5\n",
            "The 2912 is divisible by 7 but not multiple of 5\n",
            "The 2919 is divisible by 7 but not multiple of 5\n",
            "The 2926 is divisible by 7 but not multiple of 5\n",
            "The 2933 is divisible by 7 but not multiple of 5\n",
            "The 2947 is divisible by 7 but not multiple of 5\n",
            "The 2954 is divisible by 7 but not multiple of 5\n",
            "The 2961 is divisible by 7 but not multiple of 5\n",
            "The 2968 is divisible by 7 but not multiple of 5\n",
            "The 2982 is divisible by 7 but not multiple of 5\n",
            "The 2989 is divisible by 7 but not multiple of 5\n",
            "The 2996 is divisible by 7 but not multiple of 5\n",
            "The 3003 is divisible by 7 but not multiple of 5\n",
            "The 3017 is divisible by 7 but not multiple of 5\n",
            "The 3024 is divisible by 7 but not multiple of 5\n",
            "The 3031 is divisible by 7 but not multiple of 5\n",
            "The 3038 is divisible by 7 but not multiple of 5\n",
            "The 3052 is divisible by 7 but not multiple of 5\n",
            "The 3059 is divisible by 7 but not multiple of 5\n",
            "The 3066 is divisible by 7 but not multiple of 5\n",
            "The 3073 is divisible by 7 but not multiple of 5\n",
            "The 3087 is divisible by 7 but not multiple of 5\n",
            "The 3094 is divisible by 7 but not multiple of 5\n",
            "The 3101 is divisible by 7 but not multiple of 5\n",
            "The 3108 is divisible by 7 but not multiple of 5\n",
            "The 3122 is divisible by 7 but not multiple of 5\n",
            "The 3129 is divisible by 7 but not multiple of 5\n",
            "The 3136 is divisible by 7 but not multiple of 5\n",
            "The 3143 is divisible by 7 but not multiple of 5\n",
            "The 3157 is divisible by 7 but not multiple of 5\n",
            "The 3164 is divisible by 7 but not multiple of 5\n",
            "The 3171 is divisible by 7 but not multiple of 5\n",
            "The 3178 is divisible by 7 but not multiple of 5\n",
            "The 3192 is divisible by 7 but not multiple of 5\n",
            "The 3199 is divisible by 7 but not multiple of 5\n"
          ],
          "name": "stdout"
        }
      ]
    },
    {
      "cell_type": "code",
      "metadata": {
        "id": "MGuXiyYPlSCv",
        "colab_type": "code",
        "colab": {
          "base_uri": "https://localhost:8080/",
          "height": 50
        },
        "outputId": "a013306d-9e9e-459c-ba3d-bacf6b5bcb3e"
      },
      "source": [
        "def reverse_name (name):\n",
        "  return name[::-1]\n",
        "\n",
        "name=input(\"Enter the name \")\n",
        "print(\"The reverse string of the name %s is :\" %name, reverse_name(name))"
      ],
      "execution_count": null,
      "outputs": [
        {
          "output_type": "stream",
          "text": [
            "Enter the name Sunil Pawar\n",
            "The reverse string of the name Sunil Pawar is : rawaP linuS\n"
          ],
          "name": "stdout"
        }
      ]
    },
    {
      "cell_type": "code",
      "metadata": {
        "id": "kFiBpgLKl-HD",
        "colab_type": "code",
        "colab": {
          "base_uri": "https://localhost:8080/",
          "height": 34
        },
        "outputId": "8c88b9b6-91e4-4ced-d61b-82c7ce4ac242"
      },
      "source": [
        "def volume(radius):\n",
        "  return (4/3)*(22/7)*(pow(radius,3))\n",
        "\n",
        "print(\"The volume of circle with radius 12 is %f:\" %volume(12))"
      ],
      "execution_count": null,
      "outputs": [
        {
          "output_type": "stream",
          "text": [
            "The volume of circle with radius 12 is 7241.142857:\n"
          ],
          "name": "stdout"
        }
      ]
    }
  ]
}