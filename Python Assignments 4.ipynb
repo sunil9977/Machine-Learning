{
 "cells": [
  {
   "cell_type": "code",
   "execution_count": 1,
   "metadata": {},
   "outputs": [
    {
     "name": "stdout",
     "output_type": "stream",
     "text": [
      "Enter three value: 1 2 3\n"
     ]
    },
    {
     "data": {
      "text/plain": [
       "0.0"
      ]
     },
     "execution_count": 1,
     "metadata": {},
     "output_type": "execute_result"
    }
   ],
   "source": [
    "class sides():\n",
    "    \n",
    "    def __init__(self,a,b,c):\n",
    "        self.a = a\n",
    "        self.b = b\n",
    "        self.c = c\n",
    "        \n",
    "class area(sides):\n",
    "    \n",
    "    def __init__(self,a,b,c):\n",
    "        sides.__init__(self,a,b,c)\n",
    "    \n",
    "    def area(self):\n",
    "        s = (self.a + self.b + self.c) / 2\n",
    "        return (s*(s-self.a)*(s-self.b)*(s-self.c)) ** 0.5\n",
    "\n",
    "a,b,c =[float(x) for x in input(\"Enter three value: \").split()]\n",
    "a = area(a,b,c)\n",
    "a.area()"
   ]
  },
  {
   "cell_type": "code",
   "execution_count": 1,
   "metadata": {},
   "outputs": [
    {
     "name": "stdout",
     "output_type": "stream",
     "text": [
      "['Sunil', 'Pawar', 'Course']\n"
     ]
    }
   ],
   "source": [
    "class check():\n",
    "    \n",
    "    def __init__(self,w,n):\n",
    "        self.w = w\n",
    "        self.n = n\n",
    "    \n",
    "    def filter_long_words(self):\n",
    "        print([i for i in self.w if len(i) > self.n])\n",
    "        \n",
    "words=[\"Sunil\",\"Pawar\",\"Age\",\"Course\"]\n",
    "l = check(words,4)\n",
    "l.filter_long_words()"
   ]
  },
  {
   "cell_type": "code",
   "execution_count": 9,
   "metadata": {},
   "outputs": [
    {
     "data": {
      "text/plain": [
       "[2, 6, 7]"
      ]
     },
     "execution_count": 9,
     "metadata": {},
     "output_type": "execute_result"
    }
   ],
   "source": [
    "def count(list_words):\n",
    "    size = []\n",
    "    for word in list_words:\n",
    "        size.append(len(word))\n",
    "    return size\n",
    "\n",
    "list_words=['ab','abcdef','aqqwert']\n",
    "count(list_words)"
   ]
  },
  {
   "cell_type": "code",
   "execution_count": 23,
   "metadata": {},
   "outputs": [
    {
     "name": "stdout",
     "output_type": "stream",
     "text": [
      "True\n",
      "True\n",
      "False\n",
      "False\n"
     ]
    }
   ],
   "source": [
    "def check_vowel(char):\n",
    "    vowel=['a','e','i','o','u']\n",
    "    if char.lower() in vowel:\n",
    "        return True\n",
    "    else:\n",
    "        return False\n",
    "\n",
    "print(check_vowel('E'))\n",
    "print(check_vowel('e'))\n",
    "print(check_vowel('Q'))\n",
    "print(check_vowel('p'))"
   ]
  }
 ],
 "metadata": {
  "kernelspec": {
   "display_name": "Python 3",
   "language": "python",
   "name": "python3"
  },
  "language_info": {
   "codemirror_mode": {
    "name": "ipython",
    "version": 3
   },
   "file_extension": ".py",
   "mimetype": "text/x-python",
   "name": "python",
   "nbconvert_exporter": "python",
   "pygments_lexer": "ipython3",
   "version": "3.8.5"
  }
 },
 "nbformat": 4,
 "nbformat_minor": 4
}
